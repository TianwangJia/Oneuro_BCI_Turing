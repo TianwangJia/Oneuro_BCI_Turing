{
 "cells": [
  {
   "cell_type": "code",
   "execution_count": 2,
   "metadata": {},
   "outputs": [],
   "source": [
    "import joblib\n",
    "import os\n",
    "import numpy as np\n",
    "import random\n",
    "import pickle\n",
    "from scipy import signal as scipysignal\n",
    "from mne.decoding import CSP\n",
    "from sklearn.discriminant_analysis import LinearDiscriminantAnalysis\n",
    "from sklearn.model_selection import ShuffleSplit, cross_val_score\n",
    "from loguru import logger\n",
    "\n",
    "from sklearn.pipeline import make_pipeline\n",
    "from sklearn.pipeline import Pipeline\n",
    "from sklearn.svm import SVC"
   ]
  },
  {
   "cell_type": "code",
   "execution_count": 5,
   "metadata": {},
   "outputs": [],
   "source": [
    "def data_generate(trdata_path):\n",
    "    # 读取数据\n",
    "    pkl_file = open(os.path.join(trdata_path, 'data.pkl'), \"rb\")\n",
    "    eeg = pickle.load(pkl_file)\n",
    "    data = eeg['data'][:64,:]\n",
    "    trigger = eeg['data'][-1,:]\n",
    "    index = np.where(trigger != 0)[0]\n",
    "    triggerdense = trigger[index]\n",
    "    SRATE = eeg['srate']\n",
    "    MICHS = np.array(range(17, 49))\n",
    "\n",
    "    # left-mi 索引\n",
    "    l_indx = index[triggerdense == 1]\n",
    "    # left-mi 标签\n",
    "    l_labels = triggerdense[triggerdense == 1]\n",
    "\n",
    "    # right-mi 索引\n",
    "    r_indx = index[triggerdense == 2]\n",
    "    # right-mi 标签\n",
    "    r_labels = triggerdense[triggerdense == 2]\n",
    "\n",
    "    lr_indx = np.concatenate((l_indx, r_indx))\n",
    "    # idle 标签\n",
    "    i_labels = np.zeros_like(r_labels)+7\n",
    "    # idle 索引\n",
    "    i_indx = np.array(random.sample(list(lr_indx), len(i_labels))).astype(np.int32)\n",
    "\n",
    "    data = data[MICHS,:]     #最后五个通道为心电通道等\n",
    "\n",
    "    fs = SRATE / 2\n",
    "    FLTNUM = scipysignal.firwin(SRATE * 3 + 1, np.array([7, 30]) / fs, pass_zero='bandpass')  # 带通滤波\n",
    "\n",
    "    # 构造left-mi训练集\n",
    "    l_epochdata = np.zeros([len(l_labels),data.shape[0],4 * SRATE])\n",
    "    for i, point in enumerate(l_indx):\n",
    "        epoch = data[:, point + int(0.5*SRATE):point + int(0.5*SRATE) + 4 * SRATE]  # 截取该段信号\n",
    "        epoch = scipysignal.filtfilt(FLTNUM, 1, epoch, padlen=len(epoch)-1)\n",
    "        l_epochdata[i, :, :] = epoch\n",
    "\n",
    "    # 构造right-mi训练集\n",
    "    r_epochdata = np.zeros([len(r_labels),data.shape[0],4 * SRATE])\n",
    "    for i, point in enumerate(r_indx):\n",
    "        epoch = data[:, point + int(0.5*SRATE):point + int(0.5*SRATE) + 4 * SRATE]  # 截取该段信号\n",
    "        epoch = scipysignal.filtfilt(FLTNUM, 1, epoch, padlen=len(epoch)-1)\n",
    "        r_epochdata[i, :, :] = epoch\n",
    "\n",
    "    # 构造idle训练集\n",
    "    i_epochdata = np.zeros([len(i_labels),data.shape[0],4 * SRATE])\n",
    "    for i, point in enumerate(i_indx):\n",
    "        epoch = data[:, point - int(4.5*SRATE): point - int(0.5*SRATE)]  # 截取该段信号\n",
    "        epoch = scipysignal.filtfilt(FLTNUM, 1, epoch, padlen=len(epoch)-1)\n",
    "        i_epochdata[i, :, :] = epoch\n",
    "    print(i_epochdata.shape)\n",
    "\n",
    "    return [l_epochdata, l_labels], [r_epochdata, r_labels], [i_epochdata, i_labels]\n"
   ]
  },
  {
   "cell_type": "code",
   "execution_count": 3,
   "metadata": {},
   "outputs": [],
   "source": [
    "pipe = Pipeline([('csp',CSP()),('svc', SVC())])"
   ]
  },
  {
   "cell_type": "code",
   "execution_count": 8,
   "metadata": {},
   "outputs": [],
   "source": [
    "mitrain_path = os.path.abspath('.')\n",
    "trdata_path = os.path.join(mitrain_path, 'Trainingdata', 'S1')"
   ]
  },
  {
   "cell_type": "code",
   "execution_count": 10,
   "metadata": {},
   "outputs": [
    {
     "data": {
      "text/plain": [
       "'/home/twjia/turing_new_local_beta/Algorithm/MItrain/Trainingdata/S1'"
      ]
     },
     "execution_count": 10,
     "metadata": {},
     "output_type": "execute_result"
    }
   ],
   "source": [
    "trdata_path"
   ]
  },
  {
   "cell_type": "code",
   "execution_count": 11,
   "metadata": {},
   "outputs": [
    {
     "name": "stdout",
     "output_type": "stream",
     "text": [
      "(100, 32, 1000)\n"
     ]
    }
   ],
   "source": [
    "l_list, r_list, i_list = data_generate(trdata_path)"
   ]
  },
  {
   "cell_type": "code",
   "execution_count": 18,
   "metadata": {},
   "outputs": [
    {
     "name": "stdout",
     "output_type": "stream",
     "text": [
      "(100, 32, 1000)\n",
      "(100,)\n"
     ]
    }
   ],
   "source": [
    "len(l_list)\n",
    "print(l_list[0].shape)\n",
    "print(l_list[1].shape)\n"
   ]
  },
  {
   "cell_type": "code",
   "execution_count": 19,
   "metadata": {},
   "outputs": [],
   "source": [
    "X = np.concatenate((l_list[0], r_list[0]),axis=0)\n",
    "y = np.concatenate((l_list[1], r_list[1]),axis=0)"
   ]
  },
  {
   "cell_type": "code",
   "execution_count": 25,
   "metadata": {},
   "outputs": [
    {
     "name": "stdout",
     "output_type": "stream",
     "text": [
      "Computing rank from data with rank=None\n",
      "    Using tolerance 2.5e-05 (2.2e-16 eps * 32 dim * 3.5e+09  max singular value)\n",
      "    Estimated rank (mag): 32\n",
      "    MAG: rank 32 computed from 32 data channels with 0 projectors\n",
      "Reducing data rank from 32 -> 32\n",
      "Estimating covariance using EMPIRICAL\n",
      "Done.\n",
      "Computing rank from data with rank=None\n",
      "    Using tolerance 2.6e-05 (2.2e-16 eps * 32 dim * 3.6e+09  max singular value)\n",
      "    Estimated rank (mag): 32\n",
      "    MAG: rank 32 computed from 32 data channels with 0 projectors\n",
      "Reducing data rank from 32 -> 32\n",
      "Estimating covariance using EMPIRICAL\n",
      "Done.\n"
     ]
    }
   ],
   "source": [
    "X_csp = pipe.fit(X,y)"
   ]
  },
  {
   "cell_type": "code",
   "execution_count": 26,
   "metadata": {},
   "outputs": [
    {
     "ename": "AttributeError",
     "evalue": "'Pipeline' object has no attribute 'shape'",
     "output_type": "error",
     "traceback": [
      "\u001b[0;31m---------------------------------------------------------------------------\u001b[0m",
      "\u001b[0;31mAttributeError\u001b[0m                            Traceback (most recent call last)",
      "\u001b[1;32m/home/twjia/turing_new_local_beta/Algorithm/MItrain/test.ipynb Cell 10\u001b[0m in \u001b[0;36m<cell line: 1>\u001b[0;34m()\u001b[0m\n\u001b[0;32m----> <a href='vscode-notebook-cell://ssh-remote%2Blab71_2/home/twjia/turing_new_local_beta/Algorithm/MItrain/test.ipynb#ch0000009vscode-remote?line=0'>1</a>\u001b[0m X_csp\u001b[39m.\u001b[39;49mshape\n",
      "\u001b[0;31mAttributeError\u001b[0m: 'Pipeline' object has no attribute 'shape'"
     ]
    }
   ],
   "source": [
    "X_csp.shape"
   ]
  }
 ],
 "metadata": {
  "kernelspec": {
   "display_name": "Python 3.10.4 ('turing': conda)",
   "language": "python",
   "name": "python3"
  },
  "language_info": {
   "codemirror_mode": {
    "name": "ipython",
    "version": 3
   },
   "file_extension": ".py",
   "mimetype": "text/x-python",
   "name": "python",
   "nbconvert_exporter": "python",
   "pygments_lexer": "ipython3",
   "version": "3.10.5"
  },
  "orig_nbformat": 4,
  "vscode": {
   "interpreter": {
    "hash": "f054861d9664f4f1a82b89b6c15c88b928ed5c7717a7df14fcc5d851b964e45a"
   }
  }
 },
 "nbformat": 4,
 "nbformat_minor": 2
}
